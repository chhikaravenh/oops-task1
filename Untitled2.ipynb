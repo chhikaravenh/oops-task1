{
 "cells": [
  {
   "cell_type": "code",
   "execution_count": 25,
   "id": "bbf56fcb-dd0c-4968-b38d-2e5ba370d922",
   "metadata": {},
   "outputs": [],
   "source": [
    "class vehicle:\n",
    "    def __init__(self,name,max_speed,average):\n",
    "        self.name = name\n",
    "        self.max_speed = max_speed       \n",
    "        self.average = average     \n",
    "        \n",
    "    def display_info(self):\n",
    "        print({self.name})\n",
    "        print({self.max_speed})\n",
    "        print({self.average})"
   ]
  },
  {
   "cell_type": "code",
   "execution_count": 26,
   "id": "86c9571e-5f95-4d57-bd4f-b39ff23135be",
   "metadata": {},
   "outputs": [],
   "source": [
    "car=vehicle(\"audi\",190,70)"
   ]
  },
  {
   "cell_type": "code",
   "execution_count": 27,
   "id": "0c82d119-aa5a-4b17-9172-11471f3eba22",
   "metadata": {},
   "outputs": [
    {
     "name": "stdout",
     "output_type": "stream",
     "text": [
      "{'audi'}\n",
      "{190}\n",
      "{70}\n"
     ]
    }
   ],
   "source": [
    "car.display_info()"
   ]
  },
  {
   "cell_type": "code",
   "execution_count": 3,
   "id": "cb6e9eee-0588-49b8-9b9a-b15ec1dbb94f",
   "metadata": {},
   "outputs": [],
   "source": [
    "class vehicle:\n",
    "    def __init__(self,name,seat):\n",
    "        self.name = name\n",
    "        self.seat = seat          \n",
    "        \n",
    "    def display_info(self):\n",
    "        print({self.name})\n",
    "        print({self.seat})\n",
    "    "
   ]
  },
  {
   "cell_type": "code",
   "execution_count": 4,
   "id": "23ca4c6d-5ddf-4355-8363-19d9a0a16fa7",
   "metadata": {},
   "outputs": [
    {
     "name": "stdout",
     "output_type": "stream",
     "text": [
      "{'toyota'}\n",
      "{5}\n"
     ]
    }
   ],
   "source": [
    "car = vehicle(\"toyota\",5)\n",
    "car.display_info()"
   ]
  },
  {
   "cell_type": "code",
   "execution_count": 6,
   "id": "b752a792-df31-4eeb-a40b-8c811dfd104d",
   "metadata": {},
   "outputs": [],
   "source": [
    "#multiple inheritance is way in which we can call class inside class more than 1 times"
   ]
  },
  {
   "cell_type": "code",
   "execution_count": 26,
   "id": "0b91a0b1-5b0b-408c-8253-4d0e6989d342",
   "metadata": {},
   "outputs": [],
   "source": [
    "class truck:\n",
    "    def truck(self):\n",
    "      \n",
    "        print(\"mahindra\")\n",
    "        \n",
    "        \n",
    "class car:\n",
    "    def car(self):\n",
    "\n",
    "        print(\"nano\")\n",
    "        \n",
    "        \n",
    "        \n",
    "class vehicle(truck,car):\n",
    "    pass"
   ]
  },
  {
   "cell_type": "code",
   "execution_count": 27,
   "id": "9435ead7-0f48-4dc5-8cd1-3ed9f00bc209",
   "metadata": {},
   "outputs": [],
   "source": [
    "a=vehicle()"
   ]
  },
  {
   "cell_type": "code",
   "execution_count": 28,
   "id": "c9897853-a6df-4327-b0f4-618b7f574a26",
   "metadata": {},
   "outputs": [
    {
     "name": "stdout",
     "output_type": "stream",
     "text": [
      "nano\n"
     ]
    }
   ],
   "source": [
    "a.car()"
   ]
  },
  {
   "cell_type": "code",
   "execution_count": 29,
   "id": "29c2d5c2-af35-44ff-8b55-79e0b49eabc6",
   "metadata": {},
   "outputs": [
    {
     "name": "stdout",
     "output_type": "stream",
     "text": [
      "mahindra\n"
     ]
    }
   ],
   "source": [
    "a.truck()"
   ]
  },
  {
   "cell_type": "code",
   "execution_count": 30,
   "id": "c85d3e9d-e265-4185-8b85-c97d9a968d14",
   "metadata": {},
   "outputs": [],
   "source": [
    "#this is method to acess and modify attributes in objects in class in python"
   ]
  },
  {
   "cell_type": "code",
   "execution_count": 58,
   "id": "caf3ace4-02e8-4a03-a44e-8e0430fb86ef",
   "metadata": {},
   "outputs": [],
   "source": [
    "class person:\n",
    "    def __init__(self,name,age):\n",
    "        self.name=name\n",
    "        self.age=age\n",
    "        \n",
    "\n",
    "    def getname(self):\n",
    "        return self.name\n",
    "    def setname(self,name):\n",
    "        self.name=name\n",
    "        \n",
    "    def getage(self):\n",
    "        return self.age\n",
    "    def setname(self,age):\n",
    "        self.age=age\n",
    "    def display(self):\n",
    "        print(p.getname())\n",
    "        print(p.getage())"
   ]
  },
  {
   "cell_type": "code",
   "execution_count": 59,
   "id": "18583782-57f8-4c4e-9031-033c4a1fc1e2",
   "metadata": {},
   "outputs": [],
   "source": [
    "p=person(\"venh\",18)"
   ]
  },
  {
   "cell_type": "code",
   "execution_count": 60,
   "id": "4e0069d0-aab0-43c6-a9dd-b77955ceb0a5",
   "metadata": {},
   "outputs": [
    {
     "name": "stdout",
     "output_type": "stream",
     "text": [
      "venh\n",
      "18\n"
     ]
    }
   ],
   "source": [
    "p.display()"
   ]
  },
  {
   "cell_type": "code",
   "execution_count": null,
   "id": "43676d19-41d1-432f-8ea5-24dc8ebfe57d",
   "metadata": {},
   "outputs": [],
   "source": [
    "#overriding is method to call class into another class"
   ]
  },
  {
   "cell_type": "code",
   "execution_count": 61,
   "id": "f9d6209d-786c-4c03-aad6-d954e53f4004",
   "metadata": {},
   "outputs": [],
   "source": [
    "class Animal:\n",
    "    def speak(self):\n",
    "        print(\"Animal speaks\")\n",
    "\n",
    "class Dog(Animal):\n",
    "    def speak(self):\n",
    "        print(\"Dog barks\")\n",
    "\n",
    "class Cat(Animal):\n",
    "    def speak(self):\n",
    "        print(\"Cat meows\")\n"
   ]
  },
  {
   "cell_type": "code",
   "execution_count": 62,
   "id": "3dfc1eca-42de-4f03-aee3-088c74ae247c",
   "metadata": {},
   "outputs": [],
   "source": [
    "dog = Dog()\n",
    "cat = Cat()"
   ]
  },
  {
   "cell_type": "code",
   "execution_count": 63,
   "id": "353cf47b-608a-4203-b652-b5cdf8017fcd",
   "metadata": {},
   "outputs": [
    {
     "name": "stdout",
     "output_type": "stream",
     "text": [
      "Dog barks\n",
      "Cat meows\n"
     ]
    }
   ],
   "source": [
    "dog.speak()\n",
    "cat.speak()"
   ]
  },
  {
   "cell_type": "code",
   "execution_count": null,
   "id": "34edafc6-81d9-4d1d-9fbe-227556439155",
   "metadata": {},
   "outputs": [],
   "source": []
  }
 ],
 "metadata": {
  "kernelspec": {
   "display_name": "Python 3 (ipykernel)",
   "language": "python",
   "name": "python3"
  },
  "language_info": {
   "codemirror_mode": {
    "name": "ipython",
    "version": 3
   },
   "file_extension": ".py",
   "mimetype": "text/x-python",
   "name": "python",
   "nbconvert_exporter": "python",
   "pygments_lexer": "ipython3",
   "version": "3.10.8"
  }
 },
 "nbformat": 4,
 "nbformat_minor": 5
}
